{
 "cells": [
  {
   "cell_type": "code",
   "execution_count": 12,
   "id": "fa674b4a-bcca-46d7-9891-592f84f3653b",
   "metadata": {},
   "outputs": [
    {
     "name": "stdout",
     "output_type": "stream",
     "text": [
      "Sentiment analysis complete. File saved as 'review-sentiment.csv'.\n"
     ]
    }
   ],
   "source": [
    "#Muhammad Adam Khan Bin Abu Ganim Khan is01083956\n",
    "#Muhammad Farhan Bin Abdul Mutalib is01082992\n",
    "#Tet analytics lab assignment 2\n",
    "\n",
    "#Discussion about the strengths and weaknesses of the selected models for sentiment classification.\n",
    "#Lexicon-Based Approach (VADER)\n",
    "#Strengths\n",
    "#•\tNo training data required: Works out-of-the-box using a pre-defined dictionary of words and rules.\n",
    "#•\tInterpretable: You can understand how sentiment scores are calculated based on word polarity.\n",
    "#•\tFast and lightweight: Suitable for real-time applications or quick analyses.\n",
    "#•\tHandles social media text well: VADER is optimized for casual language, punctuation (e.g., \"!!!\"), capitalization, and emoticons.\n",
    "#Weaknesses\n",
    "#•\tLimited to its dictionary: It cannot capture domain-specific language or slang not included in the lexicon.\n",
    "#•\tPoor at understanding context: It doesn't understand sarcasm, irony, or subtle linguistic cues.\n",
    "#•\tStatic scoring: Cannot improve or adapt without modifying the dictionary.\n",
    "\n",
    "\n",
    "import pandas as pd\n",
    "from vaderSentiment.vaderSentiment import SentimentIntensityAnalyzer\n",
    "\n",
    "# Step 1: Load the dataset\n",
    "df = pd.read_csv(\"Reviews.csv\")\n",
    "\n",
    "# Step 2: Prepare the text column (use 'Summary' as shown in your screenshot)\n",
    "df['Summary'] = df['Summary'].astype(str).fillna(\"\")\n",
    "\n",
    "# Step 3: Initialize VADER Sentiment Analyzer\n",
    "analyzer = SentimentIntensityAnalyzer()\n",
    "\n",
    "# Step 4: Apply VADER sentiment analysis\n",
    "df['compound'] = df['Summary'].apply(lambda x: analyzer.polarity_scores(x)['compound'])\n",
    "\n",
    "# Step 5: Map compound score to sentiment labels\n",
    "def get_sentiment(score):\n",
    "    if score >= 0.05:\n",
    "        return 'positive'\n",
    "    elif score <= -0.05:\n",
    "        return 'negative'\n",
    "    else:\n",
    "        return 'neutral'\n",
    "\n",
    "df['Sentiment'] = df['compound'].apply(get_sentiment)\n",
    "\n",
    "# Step 6: Save results to a new CSV file\n",
    "df.to_csv(\"review-sentiment.csv\", index=False)\n",
    "\n",
    "print(\"Sentiment analysis complete. File saved as 'review-sentiment.csv'.\")\n"
   ]
  },
  {
   "cell_type": "code",
   "execution_count": null,
   "id": "deb8fefe-2959-40e6-82ec-1d4899917a2e",
   "metadata": {},
   "outputs": [],
   "source": []
  }
 ],
 "metadata": {
  "kernelspec": {
   "display_name": "Python [conda env:base] *",
   "language": "python",
   "name": "conda-base-py"
  },
  "language_info": {
   "codemirror_mode": {
    "name": "ipython",
    "version": 3
   },
   "file_extension": ".py",
   "mimetype": "text/x-python",
   "name": "python",
   "nbconvert_exporter": "python",
   "pygments_lexer": "ipython3",
   "version": "3.12.7"
  }
 },
 "nbformat": 4,
 "nbformat_minor": 5
}
