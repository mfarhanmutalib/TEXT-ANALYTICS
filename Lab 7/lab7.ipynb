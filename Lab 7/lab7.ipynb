{
 "cells": [
  {
   "cell_type": "code",
   "execution_count": 1,
   "id": "d1b8a4bd-c458-46a7-b5be-9669eaa918ee",
   "metadata": {},
   "outputs": [
    {
     "ename": "ModuleNotFoundError",
     "evalue": "No module named 'textblob'",
     "output_type": "error",
     "traceback": [
      "\u001b[1;31m---------------------------------------------------------------------------\u001b[0m",
      "\u001b[1;31mModuleNotFoundError\u001b[0m                       Traceback (most recent call last)",
      "Cell \u001b[1;32mIn[1], line 1\u001b[0m\n\u001b[1;32m----> 1\u001b[0m \u001b[38;5;28;01mfrom\u001b[39;00m \u001b[38;5;21;01mtextblob\u001b[39;00m \u001b[38;5;28;01mimport\u001b[39;00m TextBlob\n\u001b[0;32m      2\u001b[0m \u001b[38;5;28;01mfrom\u001b[39;00m \u001b[38;5;21;01mvaderSentiment\u001b[39;00m\u001b[38;5;21;01m.\u001b[39;00m\u001b[38;5;21;01mvaderSentiment\u001b[39;00m \u001b[38;5;28;01mimport\u001b[39;00m SentimentIntensityAnalyzer\n\u001b[0;32m      3\u001b[0m \u001b[38;5;28;01mfrom\u001b[39;00m \u001b[38;5;21;01mtabulate\u001b[39;00m \u001b[38;5;28;01mimport\u001b[39;00m tabulate\n",
      "\u001b[1;31mModuleNotFoundError\u001b[0m: No module named 'textblob'"
     ]
    }
   ],
   "source": [
    "from textblob import TextBlob\n",
    "from vaderSentiment.vaderSentiment import SentimentIntensityAnalyzer\n",
    "from tabulate import tabulate"
   ]
  },
  {
   "cell_type": "code",
   "execution_count": 7,
   "id": "454190b6-34da-4f23-9c45-a9fd04813d77",
   "metadata": {},
   "outputs": [
    {
     "name": "stdout",
     "output_type": "stream",
     "text": [
      "Requirement already satisfied: TextBlob in c:\\users\\mfarh\\anaconda3\\lib\\site-packages (0.19.0)\n",
      "Requirement already satisfied: nltk>=3.9 in c:\\users\\mfarh\\anaconda3\\lib\\site-packages (from TextBlob) (3.9.1)\n",
      "Requirement already satisfied: click in c:\\users\\mfarh\\anaconda3\\lib\\site-packages (from nltk>=3.9->TextBlob) (8.1.7)\n",
      "Requirement already satisfied: joblib in c:\\users\\mfarh\\anaconda3\\lib\\site-packages (from nltk>=3.9->TextBlob) (1.4.2)\n",
      "Requirement already satisfied: regex>=2021.8.3 in c:\\users\\mfarh\\anaconda3\\lib\\site-packages (from nltk>=3.9->TextBlob) (2024.9.11)\n",
      "Requirement already satisfied: tqdm in c:\\users\\mfarh\\anaconda3\\lib\\site-packages (from nltk>=3.9->TextBlob) (4.66.5)\n",
      "Requirement already satisfied: colorama in c:\\users\\mfarh\\anaconda3\\lib\\site-packages (from click->nltk>=3.9->TextBlob) (0.4.6)\n"
     ]
    }
   ],
   "source": [
    "!pip install TextBlob"
   ]
  },
  {
   "cell_type": "code",
   "execution_count": 5,
   "id": "5310d150-5ace-4cd0-9d56-aff393b9f70a",
   "metadata": {},
   "outputs": [
    {
     "ename": "ModuleNotFoundError",
     "evalue": "No module named 'vaderSentiment'",
     "output_type": "error",
     "traceback": [
      "\u001b[1;31m---------------------------------------------------------------------------\u001b[0m",
      "\u001b[1;31mModuleNotFoundError\u001b[0m                       Traceback (most recent call last)",
      "Cell \u001b[1;32mIn[5], line 2\u001b[0m\n\u001b[0;32m      1\u001b[0m \u001b[38;5;28;01mfrom\u001b[39;00m \u001b[38;5;21;01mtextblob\u001b[39;00m \u001b[38;5;28;01mimport\u001b[39;00m TextBlob\n\u001b[1;32m----> 2\u001b[0m \u001b[38;5;28;01mfrom\u001b[39;00m \u001b[38;5;21;01mvaderSentiment\u001b[39;00m\u001b[38;5;21;01m.\u001b[39;00m\u001b[38;5;21;01mvaderSentiment\u001b[39;00m \u001b[38;5;28;01mimport\u001b[39;00m SentimentIntensityAnalyzer\n\u001b[0;32m      3\u001b[0m \u001b[38;5;28;01mfrom\u001b[39;00m \u001b[38;5;21;01mtabulate\u001b[39;00m \u001b[38;5;28;01mimport\u001b[39;00m tabulate\n",
      "\u001b[1;31mModuleNotFoundError\u001b[0m: No module named 'vaderSentiment'"
     ]
    }
   ],
   "source": [
    "from textblob import TextBlob\n",
    "from vaderSentiment.vaderSentiment import SentimentIntensityAnalyzer\n",
    "from tabulate import tabulate"
   ]
  },
  {
   "cell_type": "code",
   "execution_count": 9,
   "id": "f8b53616-0e78-4d57-9024-c7aacf80c7bc",
   "metadata": {},
   "outputs": [
    {
     "name": "stderr",
     "output_type": "stream",
     "text": [
      "[nltk_data] Downloading package punkt to\n",
      "[nltk_data]     C:\\Users\\mfarh\\AppData\\Roaming\\nltk_data...\n",
      "[nltk_data]   Package punkt is already up-to-date!\n"
     ]
    },
    {
     "data": {
      "text/plain": [
       "True"
      ]
     },
     "execution_count": 9,
     "metadata": {},
     "output_type": "execute_result"
    }
   ],
   "source": [
    "from textblob import TextBlob\n",
    "import nltk\n",
    "nltk.download('punkt')"
   ]
  },
  {
   "cell_type": "code",
   "execution_count": 11,
   "id": "89af00b6-bb72-4626-aafa-101114456ca9",
   "metadata": {},
   "outputs": [
    {
     "name": "stdout",
     "output_type": "stream",
     "text": [
      "Sentiment(polarity=0.375, subjectivity=0.75)\n"
     ]
    }
   ],
   "source": [
    "blob = TextBlob(\"Hello! I am excited to use TextBlob.\")\n",
    "print(blob.sentiment)"
   ]
  },
  {
   "cell_type": "code",
   "execution_count": 13,
   "id": "c7c04d71-ef71-48d3-a2c0-4e872be2992e",
   "metadata": {},
   "outputs": [
    {
     "ename": "ModuleNotFoundError",
     "evalue": "No module named 'vaderSentiment'",
     "output_type": "error",
     "traceback": [
      "\u001b[1;31m---------------------------------------------------------------------------\u001b[0m",
      "\u001b[1;31mModuleNotFoundError\u001b[0m                       Traceback (most recent call last)",
      "Cell \u001b[1;32mIn[13], line 2\u001b[0m\n\u001b[0;32m      1\u001b[0m \u001b[38;5;28;01mfrom\u001b[39;00m \u001b[38;5;21;01mtextblob\u001b[39;00m \u001b[38;5;28;01mimport\u001b[39;00m TextBlob\n\u001b[1;32m----> 2\u001b[0m \u001b[38;5;28;01mfrom\u001b[39;00m \u001b[38;5;21;01mvaderSentiment\u001b[39;00m\u001b[38;5;21;01m.\u001b[39;00m\u001b[38;5;21;01mvaderSentiment\u001b[39;00m \u001b[38;5;28;01mimport\u001b[39;00m SentimentIntensityAnalyzer\n\u001b[0;32m      3\u001b[0m \u001b[38;5;28;01mfrom\u001b[39;00m \u001b[38;5;21;01mtabulate\u001b[39;00m \u001b[38;5;28;01mimport\u001b[39;00m tabulate\n",
      "\u001b[1;31mModuleNotFoundError\u001b[0m: No module named 'vaderSentiment'"
     ]
    }
   ],
   "source": [
    "from textblob import TextBlob\n",
    "from vaderSentiment.vaderSentiment import SentimentIntensityAnalyzer\n",
    "from tabulate import tabulate"
   ]
  },
  {
   "cell_type": "code",
   "execution_count": 15,
   "id": "db14d2e6-7307-468c-852a-f3c834b31dcf",
   "metadata": {},
   "outputs": [
    {
     "name": "stdout",
     "output_type": "stream",
     "text": [
      "Collecting vaderSentiment\n",
      "  Downloading vaderSentiment-3.3.2-py2.py3-none-any.whl.metadata (572 bytes)\n",
      "Requirement already satisfied: requests in c:\\users\\mfarh\\anaconda3\\lib\\site-packages (from vaderSentiment) (2.32.3)\n",
      "Requirement already satisfied: charset-normalizer<4,>=2 in c:\\users\\mfarh\\anaconda3\\lib\\site-packages (from requests->vaderSentiment) (3.3.2)\n",
      "Requirement already satisfied: idna<4,>=2.5 in c:\\users\\mfarh\\anaconda3\\lib\\site-packages (from requests->vaderSentiment) (3.7)\n",
      "Requirement already satisfied: urllib3<3,>=1.21.1 in c:\\users\\mfarh\\anaconda3\\lib\\site-packages (from requests->vaderSentiment) (2.2.3)\n",
      "Requirement already satisfied: certifi>=2017.4.17 in c:\\users\\mfarh\\anaconda3\\lib\\site-packages (from requests->vaderSentiment) (2025.1.31)\n",
      "Downloading vaderSentiment-3.3.2-py2.py3-none-any.whl (125 kB)\n",
      "Installing collected packages: vaderSentiment\n",
      "Successfully installed vaderSentiment-3.3.2\n"
     ]
    }
   ],
   "source": [
    "!pip install vaderSentiment"
   ]
  },
  {
   "cell_type": "code",
   "execution_count": 17,
   "id": "999e7909-14f1-4983-b396-dbd08d125c07",
   "metadata": {},
   "outputs": [],
   "source": [
    "from vaderSentiment.vaderSentiment import SentimentIntensityAnalyzer"
   ]
  },
  {
   "cell_type": "code",
   "execution_count": 19,
   "id": "92456ad9-d79d-4824-80e8-d47dc0f122f1",
   "metadata": {},
   "outputs": [],
   "source": [
    "from textblob import TextBlob\n",
    "from vaderSentiment.vaderSentiment import SentimentIntensityAnalyzer\n",
    "from tabulate import tabulate"
   ]
  },
  {
   "cell_type": "code",
   "execution_count": 23,
   "id": "eb4bc3aa-ee4c-4626-b420-bc0323c3aa10",
   "metadata": {},
   "outputs": [],
   "source": [
    "data = [\n",
    " (\"I love this product, it's amazing!\", 'positive'),\n",
    " (\"This product is terrible, I hate it.\", 'negative'),\n",
    " (\"It's okay, not bad but not great either.\", 'neutral'),\n",
    "(\"Best product ever, highly recommended!\", 'positive'),\n",
    " (\"I'm really disappointed with the quality.\", 'negative'),\n",
    " (\"So-so product, nothing special about it.\", 'neutral'),\n",
    " (\"The customer service was excellent!\", 'positive'),\n",
    " (\"I wasted my money on this useless product.\", 'negative'),\n",
    " (\"It's not the worst, but certainly not the best.\", 'neutral'),\n",
    " (\"I can't live without this product, it's a lifesaver!\", 'positive'),\n",
    " (\"The product arrived damaged and unusable.\", 'negative'),\n",
    " (\"It's average, neither good nor bad.\", 'neutral'),\n",
    " (\"Highly disappointed with the purchase.\", 'negative'),\n",
    " (\"The product exceeded my expectations.\", 'positive'),\n",
    " (\"It's just okay, nothing extraordinary.\", 'neutral'),\n",
    " (\"This product is excellent, it exceeded all my expectations!\", 'positive'),\n",
    " (\"I regret purchasing this product, it's a waste of money.\", 'negative'),\n",
    " (\"It's neither good nor bad, just average.\", 'neutral'),\n",
    " (\"Outstanding customer service, highly recommended!\", 'positive'),\n",
    " (\"I'm very disappointed with the quality of this item.\", 'negative'),\n",
    " (\"It's not the best product, but it gets the job done.\", 'neutral'),\n",
    " (\"This product is a game-changer, I can't imagine life without it!\", 'positive'),\n",
    " (\"I received a defective product, very dissatisfied.\", 'negative'),\n",
    " (\"It's neither great nor terrible, just okay.\", 'neutral'),\n",
    " (\"Fantastic product, I would buy it again in a heartbeat!\", 'positive'),\n",
    " (\"Avoid this product at all costs, complete waste of money.\", 'negative'),\n",
    " (\"It's decent, but nothing extraordinary.\", 'neutral'),\n",
    " (\"Impressive quality, exceeded my expectations!\", 'positive'),\n",
    " (\"I'm very unhappy with this purchase, total disappointment.\", 'negative'),\n",
    " (\"It's neither amazing nor terrible, somewhere in between.\", 'neutral')\n",
    "]\n",
    "\n",
    "    "
   ]
  },
  {
   "cell_type": "code",
   "execution_count": 25,
   "id": "50b33b85-6111-4036-ba24-bda946ff9c02",
   "metadata": {},
   "outputs": [],
   "source": [
    "table_data = [[\"Text\", \"Actual Label\", \"TextBlob Polarity\", \"TextBlob Sentiment\",\n",
    "\"VADER Compound\", \"VADER Sentiment\"]]"
   ]
  },
  {
   "cell_type": "code",
   "execution_count": 36,
   "id": "bd27f502-f7a5-4634-889d-297dfa3e9c5f",
   "metadata": {},
   "outputs": [
    {
     "name": "stdout",
     "output_type": "stream",
     "text": [
      "                                                 Text Actual Label  \\\n",
      "0                  I love this product, it's amazing!     positive   \n",
      "1                This product is terrible, I hate it.     negative   \n",
      "2            It's okay, not bad but not great either.      neutral   \n",
      "3              Best product ever, highly recommended!     positive   \n",
      "4           I'm really disappointed with the quality.     negative   \n",
      "5            So-so product, nothing special about it.      neutral   \n",
      "6                 The customer service was excellent!     positive   \n",
      "7          I wasted my money on this useless product.     negative   \n",
      "8     It's not the worst, but certainly not the best.      neutral   \n",
      "9   I can't live without this product, it's a life...     positive   \n",
      "10          The product arrived damaged and unusable.     negative   \n",
      "11                It's average, neither good nor bad.      neutral   \n",
      "12             Highly disappointed with the purchase.     negative   \n",
      "13              The product exceeded my expectations.     positive   \n",
      "14             It's just okay, nothing extraordinary.      neutral   \n",
      "15  This product is excellent, it exceeded all my ...     positive   \n",
      "16  I regret purchasing this product, it's a waste...     negative   \n",
      "17           It's neither good nor bad, just average.      neutral   \n",
      "18  Outstanding customer service, highly recommended!     positive   \n",
      "19  I'm very disappointed with the quality of this...     negative   \n",
      "20  It's not the best product, but it gets the job...      neutral   \n",
      "21  This product is a game-changer, I can't imagin...     positive   \n",
      "22  I received a defective product, very dissatisf...     negative   \n",
      "23        It's neither great nor terrible, just okay.      neutral   \n",
      "24  Fantastic product, I would buy it again in a h...     positive   \n",
      "25  Avoid this product at all costs, complete wast...     negative   \n",
      "26            It's decent, but nothing extraordinary.      neutral   \n",
      "27      Impressive quality, exceeded my expectations!     positive   \n",
      "28  I'm very unhappy with this purchase, total dis...     negative   \n",
      "29  It's neither amazing nor terrible, somewhere i...      neutral   \n",
      "\n",
      "    TB Polarity  TB Label  VADER Compound VADER Label  \n",
      "0      0.625000  positive          0.8516    positive  \n",
      "1     -0.900000  negative         -0.7783    negative  \n",
      "2      0.150000  positive         -0.4707    negative  \n",
      "3      0.600000  positive          0.7639    positive  \n",
      "4     -0.750000  negative         -0.5256    negative  \n",
      "5      0.357143  positive         -0.3089    negative  \n",
      "6      1.000000  positive          0.6114    positive  \n",
      "7     -0.350000  negative         -0.7543    negative  \n",
      "8     -0.035714  negative         -0.0785    negative  \n",
      "9      0.170455  positive          0.6239    positive  \n",
      "10     0.000000   neutral         -0.4404    negative  \n",
      "11    -0.050000  negative         -0.5824    negative  \n",
      "12    -0.750000  negative         -0.5256    negative  \n",
      "13     0.000000   neutral          0.0000     neutral  \n",
      "14     0.416667  positive          0.2263    positive  \n",
      "15     1.000000  positive          0.6114    positive  \n",
      "16    -0.200000  negative         -0.6808    negative  \n",
      "17    -0.050000  negative         -0.5824    negative  \n",
      "18     0.350000  positive          0.7495    positive  \n",
      "19    -0.975000  negative         -0.5256    negative  \n",
      "20     1.000000  positive         -0.2924    negative  \n",
      "21     0.000000   neutral          0.0000     neutral  \n",
      "22     0.200000  positive         -0.6997    negative  \n",
      "23     0.100000  positive         -0.7278    negative  \n",
      "24     0.500000  positive          0.5983    positive  \n",
      "25    -0.050000  negative         -0.6124    negative  \n",
      "26     0.250000  positive          0.0000     neutral  \n",
      "27     1.000000  positive          0.5562    positive  \n",
      "28    -0.460000  negative         -0.7708    negative  \n",
      "29    -0.200000  negative         -0.6395    negative  \n"
     ]
    }
   ],
   "source": [
    "from textblob import TextBlob\n",
    "from vaderSentiment.vaderSentiment import SentimentIntensityAnalyzer\n",
    "import pandas as pd\n",
    "\n",
    "# Example: If you're using data from a dataframe, replace 'data' with the actual variable.\n",
    "# For now, let's assume you have a list of (text, actual_label) tuples\n",
    "# Example: data = [(text1, label1), (text2, label2), ...]\n",
    "\n",
    "table_data = []\n",
    "analyzer = SentimentIntensityAnalyzer()\n",
    "\n",
    "for text, actual_label in data:\n",
    "    # TextBlob Analysis\n",
    "    blob = TextBlob(text)\n",
    "    tb_polarity = blob.sentiment.polarity\n",
    "    if tb_polarity > 0:\n",
    "        tb_label = 'positive'\n",
    "    elif tb_polarity < 0:\n",
    "        tb_label = 'negative'\n",
    "    else:\n",
    "        tb_label = 'neutral'\n",
    "\n",
    "    # VADER Analysis\n",
    "    vs = analyzer.polarity_scores(text)\n",
    "    vader_compound = vs['compound']\n",
    "    if vader_compound > 0.05:\n",
    "        vader_label = 'positive'\n",
    "    elif vader_compound < -0.05:\n",
    "        vader_label = 'negative'\n",
    "    else:\n",
    "        vader_label = 'neutral'\n",
    "\n",
    "    # Store results\n",
    "    table_data.append([text, actual_label, tb_polarity, tb_label, vader_compound, vader_label])\n",
    "\n",
    "# Create DataFrame and display\n",
    "df_results = pd.DataFrame(table_data, columns=[\"Text\", \"Actual Label\", \"TB Polarity\", \"TB Label\", \"VADER Compound\", \"VADER Label\"])\n",
    "print(df_results)\n"
   ]
  },
  {
   "cell_type": "code",
   "execution_count": 38,
   "id": "bcc42eab-a59c-49dd-bf2c-3e149ef563f1",
   "metadata": {},
   "outputs": [
    {
     "name": "stdout",
     "output_type": "stream",
     "text": [
      "I love this product, it's amazing!                                positive         0.625  positive      0.8516  positive\n",
      "This product is terrible, I hate it.                              negative    -0.9        negative     -0.7783  negative\n",
      "It's okay, not bad but not great either.                          neutral      0.15       positive     -0.4707  negative\n",
      "Best product ever, highly recommended!                            positive     0.6        positive      0.7639  positive\n",
      "I'm really disappointed with the quality.                         negative    -0.75       negative     -0.5256  negative\n",
      "So-so product, nothing special about it.                          neutral      0.357143   positive     -0.3089  negative\n",
      "The customer service was excellent!                               positive     1          positive      0.6114  positive\n",
      "I wasted my money on this useless product.                        negative    -0.35       negative     -0.7543  negative\n",
      "It's not the worst, but certainly not the best.                   neutral     -0.0357143  negative     -0.0785  negative\n",
      "I can't live without this product, it's a lifesaver!              positive     0.170455   positive      0.6239  positive\n",
      "The product arrived damaged and unusable.                         negative     0          neutral      -0.4404  negative\n",
      "It's average, neither good nor bad.                               neutral     -0.05       negative     -0.5824  negative\n",
      "Highly disappointed with the purchase.                            negative    -0.75       negative     -0.5256  negative\n",
      "The product exceeded my expectations.                             positive     0          neutral       0       neutral\n",
      "It's just okay, nothing extraordinary.                            neutral      0.416667   positive      0.2263  positive\n",
      "This product is excellent, it exceeded all my expectations!       positive     1          positive      0.6114  positive\n",
      "I regret purchasing this product, it's a waste of money.          negative    -0.2        negative     -0.6808  negative\n",
      "It's neither good nor bad, just average.                          neutral     -0.05       negative     -0.5824  negative\n",
      "Outstanding customer service, highly recommended!                 positive     0.35       positive      0.7495  positive\n",
      "I'm very disappointed with the quality of this item.              negative    -0.975      negative     -0.5256  negative\n",
      "It's not the best product, but it gets the job done.              neutral      1          positive     -0.2924  negative\n",
      "This product is a game-changer, I can't imagine life without it!  positive     0          neutral       0       neutral\n",
      "I received a defective product, very dissatisfied.                negative     0.2        positive     -0.6997  negative\n",
      "It's neither great nor terrible, just okay.                       neutral      0.1        positive     -0.7278  negative\n",
      "Fantastic product, I would buy it again in a heartbeat!           positive     0.5        positive      0.5983  positive\n",
      "Avoid this product at all costs, complete waste of money.         negative    -0.05       negative     -0.6124  negative\n",
      "It's decent, but nothing extraordinary.                           neutral      0.25       positive      0       neutral\n",
      "Impressive quality, exceeded my expectations!                     positive     1          positive      0.5562  positive\n",
      "I'm very unhappy with this purchase, total disappointment.        negative    -0.46       negative     -0.7708  negative\n",
      "It's neither amazing nor terrible, somewhere in between.          neutral     -0.2        negative     -0.6395  negative\n"
     ]
    }
   ],
   "source": [
    "print(tabulate(table_data, headers=\"firstrow\", tablefmt=\"plain\"))\n"
   ]
  },
  {
   "cell_type": "code",
   "execution_count": 42,
   "id": "c85fa376-9610-4acf-be6d-99665c157780",
   "metadata": {},
   "outputs": [],
   "source": [
    "from textblob import TextBlob\n",
    "from vaderSentiment.vaderSentiment import SentimentIntensityAnalyzer\n",
    "from sklearn.metrics import classification_report\n",
    "from tabulate import tabulate\n",
    "# Sample data for demonstration\n",
    "data = [\n",
    " (\"I love this product, it's amazing!\", 'positive'),\n",
    " (\"This product is terrible, I hate it.\", 'negative'),\n",
    " (\"It's okay, not bad but not great either.\", 'neutral'),\n",
    " (\"Best product ever, highly recommended!\", 'positive'),\n",
    " (\"I'm really disappointed with the quality.\", 'negative'),\n",
    " (\"So-so product, nothing special about it.\", 'neutral'),\n",
    " (\"The customer service was excellent!\", 'positive'),\n",
    " (\"I wasted my money on this useless product.\", 'negative'),\n",
    " (\"It's not the worst, but certainly not the best.\", 'neutral'),\n",
    " (\"I can't live without this product, it's a lifesaver!\", 'positive'),\n",
    " (\"The product arrived damaged and unusable.\", 'negative'),\n",
    " (\"It's average, neither good nor bad.\", 'neutral'),\n",
    " (\"Highly disappointed with the purchase.\", 'negative'),\n",
    " (\"The product exceeded my expectations.\", 'positive'),\n",
    " (\"It's just okay, nothing extraordinary.\", 'neutral'),\n",
    " (\"This product is excellent, it exceeded all my expectations!\", 'positive'),\n",
    " (\"I regret purchasing this product, it's a waste of money.\", 'negative'),\n",
    " (\"It's neither good nor bad, just average.\", 'neutral'),\n",
    " (\"Outstanding customer service, highly recommended!\", 'positive'),\n",
    " (\"I'm very disappointed with the quality of this item.\", 'negative'),\n",
    " (\"It's not the best product, but it gets the job done.\", 'neutral'),\n",
    " (\"This product is a game-changer, I can't imagine life without it!\", 'positive'),\n",
    " (\"I received a defective product, very dissatisfied.\", 'negative'),\n",
    " (\"It's neither great nor terrible, just okay.\", 'neutral'),\n",
    " (\"Fantastic product, I would buy it again in a heartbeat!\", 'positive'),\n",
    " (\"Avoid this product at all costs, complete waste of money.\", 'negative'),\n",
    " (\"It's decent, but nothing extraordinary.\", 'neutral'),\n",
    " (\"Impressive quality, exceeded my expectations!\", 'positive'),\n",
    " (\"I'm very unhappy with this purchase, total disappointment.\", 'negative'),\n",
    " (\"It's neither amazing nor terrible, somewhere in between.\", 'neutral')\n",
    "]\n",
    "# Initialize an empty list to store the data in tabular format\n",
    "table_data = [[\"Text\", \"Actual Label\", \"TextBlob Polarity\", \"TextBlob Sentiment\",\n",
    "\"VADER Compound\", \"VADER Sentiment\"]]\n",
    "# Lexicon-based approach using TextBlob and VADER\n",
    "for text, actual_label in data:\n",
    " # TextBlob\n",
    " blob = TextBlob(text)\n",
    " tb_polarity = blob.sentiment.polarity\n",
    "\n",
    " # Determine label based on polarity score from TextBlob\n",
    " if tb_polarity > 0:\n",
    "     tb_label = 'positive'\n",
    " elif tb_polarity < 0:\n",
    "     tb_label = 'negative'\n",
    " else:\n",
    "     tb_label = 'neutral'\n",
    " # VADER\n",
    " analyzer = SentimentIntensityAnalyzer()\n",
    " vs = analyzer.polarity_scores(text)\n",
    " vader_compound = vs['compound']"
   ]
  },
  {
   "cell_type": "code",
   "execution_count": 48,
   "id": "8b53daad-4f6d-4995-9bd6-3f96c1c62d05",
   "metadata": {},
   "outputs": [
    {
     "ename": "SyntaxError",
     "evalue": "unterminated string literal (detected at line 23) (2903803292.py, line 23)",
     "output_type": "error",
     "traceback": [
      "\u001b[1;36m  Cell \u001b[1;32mIn[48], line 23\u001b[1;36m\u001b[0m\n\u001b[1;33m    target_names=['negative_\u001b[0m\n\u001b[1;37m                  ^\u001b[0m\n\u001b[1;31mSyntaxError\u001b[0m\u001b[1;31m:\u001b[0m unterminated string literal (detected at line 23)\n"
     ]
    }
   ],
   "source": [
    "# Determine label based on compound score from VADER\n",
    " if vader_compound > 0.05:\n",
    "     vader_label = 'positive'\n",
    " elif vader_compound < -0.05:\n",
    "     vader_label = 'negative'\n",
    " else:\n",
    "     vader_label = 'neutral'\n",
    " table_data.append([text, actual_label, tb_polarity, tb_label, vader_compound,\n",
    "vader_label])\n",
    "print(tabulate(table_data, headers=\"firstrow\", tablefmt=\"plain\"))\n",
    "\n",
    "# Calculate classification report for TextBlob\n",
    "tb_classification_report = classification_report([label for _, label, _, tb_label, _,\n",
    "_ in table_data[1:]], [tb_label for _, _, _, tb_label, _, _ in table_data[1:]],\n",
    "target_names=['negative', 'neutral', 'positive'])\n",
    "# Calculate classification report for VADER\n",
    "vader_classification_report = classification_report([label for _, label, _, _, _,\n",
    "vader_label in table_data[1:]], [vader_label for _, _, _, _, _, vader_label in\n",
    "table_data[1:]], target_names=['negative', 'neutral', 'positive'])\n",
    "# Print classification report for TextBlob\n",
    "print(\"\\nClassification Report for TextBlob:\")\n",
    "print(tb_classification_report)\n",
    "# Print classification report for VADER\n",
    "print(\"\\nClassification Report for VADER:\")\n",
    "print(vader_classification_report)"
   ]
  },
  {
   "cell_type": "code",
   "execution_count": 52,
   "id": "ee6b16ee-abe0-407d-bdf3-879cdf7971e9",
   "metadata": {},
   "outputs": [
    {
     "name": "stdout",
     "output_type": "stream",
     "text": [
      "Text                                                      Actual Label      TextBlob Polarity  TextBlob Sentiment      VADER Compound  VADER Sentiment\n",
      "It's neither amazing nor terrible, somewhere in between.  neutral                        -0.2  negative                       -0.6395  negative\n",
      "It's neither amazing nor terrible, somewhere in between.  neutral                        -0.2  negative                       -0.6395  negative\n",
      "\n",
      "Classification Report for TextBlob:\n",
      "              precision    recall  f1-score   support\n",
      "\n",
      "    negative       0.00      0.00      0.00       0.0\n",
      "     neutral       0.00      0.00      0.00       2.0\n",
      "    positive       0.00      0.00      0.00       0.0\n",
      "\n",
      "    accuracy                           0.00       2.0\n",
      "   macro avg       0.00      0.00      0.00       2.0\n",
      "weighted avg       0.00      0.00      0.00       2.0\n",
      "\n",
      "\n",
      "Classification Report for VADER:\n",
      "              precision    recall  f1-score   support\n",
      "\n",
      "    negative       0.00      0.00      0.00       0.0\n",
      "     neutral       0.00      0.00      0.00       2.0\n",
      "    positive       0.00      0.00      0.00       0.0\n",
      "\n",
      "    accuracy                           0.00       2.0\n",
      "   macro avg       0.00      0.00      0.00       2.0\n",
      "weighted avg       0.00      0.00      0.00       2.0\n",
      "\n"
     ]
    }
   ],
   "source": [
    "# Determine label based on compound score from VADER\n",
    "if vader_compound > 0.05:\n",
    "    vader_label = 'positive'\n",
    "elif vader_compound < -0.05:\n",
    "    vader_label = 'negative'\n",
    "else:\n",
    "    vader_label = 'neutral'\n",
    "\n",
    "table_data.append([text, actual_label, tb_polarity, tb_label, vader_compound, vader_label])\n",
    "print(tabulate(table_data, headers=\"firstrow\", tablefmt=\"plain\"))\n",
    "\n",
    "# Calculate classification report for TextBlob\n",
    "tb_classification_report = classification_report(\n",
    "    [label for _, label, _, tb_label, _, _ in table_data[1:]],\n",
    "    [tb_label for _, _, _, tb_label, _, _ in table_data[1:]],\n",
    "    labels=['negative', 'neutral', 'positive'],\n",
    "    target_names=['negative', 'neutral', 'positive'],\n",
    "    zero_division=0\n",
    ")\n",
    "\n",
    "# Calculate classification report for VADER\n",
    "vader_classification_report = classification_report(\n",
    "    [label for _, label, _, _, _, vader_label in table_data[1:]],\n",
    "    [vader_label for _, _, _, _, _, vader_label in table_data[1:]],\n",
    "    labels=['negative', 'neutral', 'positive'],\n",
    "    target_names=['negative', 'neutral', 'positive'],\n",
    "    zero_division=0\n",
    ")\n",
    "\n",
    "# Print classification report for TextBlob\n",
    "print(\"\\nClassification Report for TextBlob:\")\n",
    "print(tb_classification_report)\n",
    "\n",
    "# Print classification report for VADER\n",
    "print(\"\\nClassification Report for VADER:\")\n",
    "print(vader_classification_report)\n"
   ]
  },
  {
   "cell_type": "code",
   "execution_count": 54,
   "id": "df92bb91-471b-4b23-bb89-6928b5cb7a4c",
   "metadata": {},
   "outputs": [],
   "source": [
    "from sklearn.feature_extraction.text import CountVectorizer\n",
    "from sklearn.model_selection import train_test_split\n",
    "from sklearn.naive_bayes import MultinomialNB\n",
    "from sklearn.svm import SVC\n",
    "from sklearn.metrics import classification_report"
   ]
  },
  {
   "cell_type": "code",
   "execution_count": 56,
   "id": "7da2ad36-d4ac-4b96-b3a5-38f26f16d14b",
   "metadata": {},
   "outputs": [
    {
     "ename": "SyntaxError",
     "evalue": "invalid syntax. Perhaps you forgot a comma? (2187011483.py, line 29)",
     "output_type": "error",
     "traceback": [
      "\u001b[1;36m  Cell \u001b[1;32mIn[56], line 29\u001b[1;36m\u001b[0m\n\u001b[1;33m    Page 9 CISB5123 Nur Laila Ab Ghani\u001b[0m\n\u001b[1;37m    ^\u001b[0m\n\u001b[1;31mSyntaxError\u001b[0m\u001b[1;31m:\u001b[0m invalid syntax. Perhaps you forgot a comma?\n"
     ]
    }
   ],
   "source": [
    "data = [\n",
    " (\"I love this product, it's amazing!\", 'positive'),\n",
    " (\"This product is terrible, I hate it.\", 'negative'),\n",
    " (\"It's okay, not bad but not great either.\", 'neutral'),\n",
    " (\"Best product ever, highly recommended!\", 'positive'),\n",
    " (\"I'm really disappointed with the quality.\", 'negative'),\n",
    " (\"So-so product, nothing special about it.\", 'neutral'),\n",
    " (\"The customer service was excellent!\", 'positive'),\n",
    " (\"I wasted my money on this useless product.\", 'negative'),\n",
    " (\"It's not the worst, but certainly not the best.\", 'neutral'),\n",
    " (\"I can't live without this product, it's a lifesaver!\", 'positive'),\n",
    " (\"The product arrived damaged and unusable.\", 'negative'),\n",
    " (\"It's average, neither good nor bad.\", 'neutral'),\n",
    " (\"Highly disappointed with the purchase.\", 'negative'),\n",
    " (\"The product exceeded my expectations.\", 'positive'),\n",
    " (\"It's just okay, nothing extraordinary.\", 'neutral'),\n",
    " (\"This product is excellent, it exceeded all my expectations!\", 'positive'),\n",
    " (\"I regret purchasing this product, it's a waste of money.\", 'negative'),\n",
    " (\"It's neither good nor bad, just average.\", 'neutral'),\n",
    " (\"Outstanding customer service, highly recommended!\", 'positive'),\n",
    " (\"I'm very disappointed with the quality of this item.\", 'negative'),\n",
    " (\"It's not the best product, but it gets the job done.\", 'neutral'),\n",
    " (\"This product is a game-changer, I can't imagine life without it!\", 'positive'),\n",
    " (\"I received a defective product, very dissatisfied.\", 'negative'),\n",
    " (\"It's neither great nor terrible, just okay.\", 'neutral'),\n",
    " (\"Fantastic product, I would buy it again in a heartbeat!\", 'positive'),\n",
    " (\"Avoid this product at all costs, complete waste of money.\", 'negative'),\n",
    " (\"It's decent, but nothing extraordinary.\", 'neutral'),\n",
    "Page 9 CISB5123 Nur Laila Ab Ghani\n",
    " (\"Impressive quality, exceeded my expectations!\", 'positive'),\n",
    " (\"I'm very unhappy with this purchase, total disappointment.\", 'negative'),\n",
    " (\"It's neither amazing nor terrible, somewhere in between.\", 'neutral')\n",
    "]\n"
   ]
  },
  {
   "cell_type": "code",
   "execution_count": null,
   "id": "462e3ca0-2d26-45e0-9438-5148c2dbf19c",
   "metadata": {},
   "outputs": [],
   "source": []
  }
 ],
 "metadata": {
  "kernelspec": {
   "display_name": "Python [conda env:base] *",
   "language": "python",
   "name": "conda-base-py"
  },
  "language_info": {
   "codemirror_mode": {
    "name": "ipython",
    "version": 3
   },
   "file_extension": ".py",
   "mimetype": "text/x-python",
   "name": "python",
   "nbconvert_exporter": "python",
   "pygments_lexer": "ipython3",
   "version": "3.12.7"
  }
 },
 "nbformat": 4,
 "nbformat_minor": 5
}
